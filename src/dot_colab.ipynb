{
  "cells": [
    {
      "cell_type": "code",
      "execution_count": 1,
      "metadata": {
        "colab": {
          "base_uri": "https://localhost:8080/"
        },
        "id": "nND2HPcBtMgY",
        "outputId": "d05d348c-5151-49d7-9c14-c6a22ec4030f"
      },
      "outputs": [
        {
          "name": "stdout",
          "output_type": "stream",
          "text": [
            "Cloning into 'data-science-from-scratch'...\n",
            "remote: Enumerating objects: 400, done.\u001b[K\n",
            "remote: Counting objects: 100% (400/400), done.\u001b[K\n",
            "remote: Compressing objects: 100% (173/173), done.\u001b[K\n",
            "remote: Total 400 (delta 220), reused 400 (delta 220), pack-reused 0\u001b[K\n",
            "Receiving objects: 100% (400/400), 749.85 KiB | 6.75 MiB/s, done.\n",
            "Resolving deltas: 100% (220/220), done.\n"
          ]
        }
      ],
      "source": [
        "! git clone https://github.com/pantelis/data-science-from-scratch.git"
      ]
    },
    {
      "cell_type": "code",
      "execution_count": 4,
      "metadata": {
        "colab": {
          "base_uri": "https://localhost:8080/"
        },
        "id": "37KpPdGktpLs",
        "outputId": "cb09c73c-264d-4a0f-cc98-409b50cce4f8"
      },
      "outputs": [
        {
          "name": "stdout",
          "output_type": "stream",
          "text": [
            "/content/data-science-from-scratch\n"
          ]
        }
      ],
      "source": [
        "%cd /content/data-science-from-scratch/"
      ]
    },
    {
      "cell_type": "code",
      "execution_count": 2,
      "metadata": {
        "colab": {
          "base_uri": "https://localhost:8080/"
        },
        "id": "HW-GgWAqt2bh",
        "outputId": "60dc9dde-d086-4896-8344-f4e45b70d039"
      },
      "outputs": [
        {
          "name": "stdout",
          "output_type": "stream",
          "text": [
            "env: PYTHONPATH=/content/data-science-from-scratch/src:/content/data-science-from-scratch/tests:/content/data-science-from-scratch/scratch:${PYTHONPATH}\n"
          ]
        }
      ],
      "source": [
        "%env PYTHONPATH=/content/data-science-from-scratch/src:/content/data-science-from-scratch/tests:/content/data-science-from-scratch/scratch:${PYTHONPATH}"
      ]
    },
    {
      "cell_type": "code",
      "execution_count": 5,
      "metadata": {
        "colab": {
          "base_uri": "https://localhost:8080/"
        },
        "id": "kw9psdu5uGWs",
        "outputId": "15281953-f3aa-42e6-fae2-6dd4050bcbf5"
      },
      "outputs": [
        {
          "name": "stdout",
          "output_type": "stream",
          "text": [
            "32\n"
          ]
        }
      ],
      "source": [
        "from scratch.linear_algebra import dot\n",
        "\n",
        "a = dot([1, 2, 3], [4, 5, 6])\n",
        "print(a)\n"
      ]
    }
  ],
  "metadata": {
    "colab": {
      "provenance": []
    },
    "kernelspec": {
      "display_name": "Python 3.10.8 ('.venv': venv)",
      "language": "python",
      "name": "python3"
    },
    "language_info": {
      "name": "python",
      "version": "3.10.8"
    },
    "vscode": {
      "interpreter": {
        "hash": "d5a99a72a1a88a447a6e5789c19622f7a318420869539844ea5a7cbe560c5c4d"
      }
    }
  },
  "nbformat": 4,
  "nbformat_minor": 0
}
